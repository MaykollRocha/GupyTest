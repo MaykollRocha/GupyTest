{
  "nbformat": 4,
  "nbformat_minor": 0,
  "metadata": {
    "colab": {
      "provenance": []
    },
    "kernelspec": {
      "name": "python3",
      "display_name": "Python 3"
    },
    "language_info": {
      "name": "python"
    }
  },
  "cells": [
    {
      "cell_type": "markdown",
      "source": [
        "\n",
        "1) Observe o trecho de código abaixo:\n",
        "\n",
        "int INDICE = 13, SOMA = 0, K = 0;\n",
        "\n",
        "Enquanto K < INDICE faça {\n",
        "  \n",
        "     K = K + 1;\n",
        "      \n",
        "     SOMA = SOMA + K;\n",
        "     \n",
        " }\n",
        "\n",
        "Imprimir(SOMA);\n",
        "\n",
        "Ao final do processamento, qual será o valor da variável SOMA?\n",
        "\n"
      ],
      "metadata": {
        "id": "uf_oa1WyfpM4"
      }
    },
    {
      "cell_type": "markdown",
      "source": [
        "R:. como ele soma até 12 com a soma 0 e adicina + 1 teremos\n",
        "\n",
        "k = 0 => k = 1 => soma = 1\n",
        "\n",
        "k = 1 => k = 2 => soma = 3\n",
        "\n",
        "k = 2 => k = 3 => soma = 6\n",
        "\n",
        "k = 3 => k = 4 => soma = 10\n",
        "\n",
        "k = 4 => k = 5 => soma = 15\n",
        "\n",
        "k = 5 => k = 6 => soma = 21\n",
        "\n",
        "k = 6 => k = 7 => soma = 28\n",
        "\n",
        "k = 7 => k = 8 => soma = 36\n",
        "\n",
        "k = 8 => k = 9 => soma = 45\n",
        "\n",
        "k = 9 => k = 10 => soma = 55\n",
        "\n",
        "k = 10 => k = 11 => soma = 66\n",
        "\n",
        "k = 11 => k = 12 => soma = 78\n",
        "\n",
        "k = 12 => k = 13 => soma = 91"
      ],
      "metadata": {
        "id": "Tpy9uxe9UHAN"
      }
    },
    {
      "cell_type": "code",
      "source": [
        "#Jogando no código\n",
        "indice = 13\n",
        "soma = 0\n",
        "k = 0\n",
        "\n",
        "while k < indice:\n",
        "  k = k + 1\n",
        "  soma = soma + k\n",
        "print(soma)\n"
      ],
      "metadata": {
        "colab": {
          "base_uri": "https://localhost:8080/"
        },
        "id": "vxu-SNnrf0K2",
        "outputId": "1cdf8e60-e526-45a6-98e3-82c4c3eb1fdf"
      },
      "execution_count": null,
      "outputs": [
        {
          "output_type": "stream",
          "name": "stdout",
          "text": [
            "91\n"
          ]
        }
      ]
    },
    {
      "cell_type": "markdown",
      "source": [
        " Dado a sequência de Fibonacci, onde se inicia por 0 e 1 e o próximo valor sempre será a soma dos 2 valores anteriores (exemplo: 0, 1, 1, 2, 3, 5, 8, 13, 21, 34...), escreva um programa na linguagem que desejar onde, informado um número, ele calcule a sequência de Fibonacci e retorne uma mensagem avisando se o número informado pertence ou não a sequência.\n",
        "\n",
        "IMPORTANTE: Esse número pode ser informado através de qualquer entrada de sua preferência ou pode ser previamente definido no código;"
      ],
      "metadata": {
        "id": "-fRF0NKEfuQB"
      }
    },
    {
      "cell_type": "code",
      "execution_count": null,
      "metadata": {
        "colab": {
          "base_uri": "https://localhost:8080/"
        },
        "id": "LNcwZdzGfbk_",
        "outputId": "c2553896-428b-42dc-ca80-dbfa9acb0798"
      },
      "outputs": [
        {
          "output_type": "stream",
          "name": "stdout",
          "text": [
            "Digite um número: 10\n",
            "O número 10 não pertence à sequência de Fibonacci.\n"
          ]
        }
      ],
      "source": [
        "numero = int(input(\"Digite um número: \"))\n",
        "a, b = 0, 1\n",
        "while b < numero:\n",
        "    a, b = b, a + b\n",
        "if b == numero:\n",
        "    print(f\"O número {numero} pertence à sequência de Fibonacci.\")\n",
        "else:\n",
        "    print(f\"O número {numero} não pertence à sequência de Fibonacci.\")"
      ]
    },
    {
      "cell_type": "markdown",
      "source": [
        " Dado um vetor que guarda o valor de faturamento diário de uma distribuidora, faça um programa, na linguagem que desejar, que calcule e retorne:\n",
        "* O menor valor de faturamento ocorrido em um dia do mês;\n",
        "* O maior valor de faturamento ocorrido em um dia do mês;\n",
        "* Número de dias no mês em que o valor de faturamento diário foi superior à média mensal.\n",
        "\n",
        "IMPORTANTE:\n",
        "\n",
        "a) Usar o json ou xml disponível como fonte dos dados do faturamento mensal;\n",
        "\n",
        "b) Podem existir dias sem faturamento, como nos finais de semana e feriados. Estes dias devem ser ignorados no cálculo da média;\n"
      ],
      "metadata": {
        "id": "3N6o_5mWgilK"
      }
    },
    {
      "cell_type": "code",
      "source": [
        "import requests\n",
        "import json\n",
        "arq = requests.get(\"https://raw.githubusercontent.com/MaykollRocha/GupyTest/main/dados.json\")\n",
        "json = arq.json()"
      ],
      "metadata": {
        "id": "4ZVQPRy_h0Wk"
      },
      "execution_count": 3,
      "outputs": []
    },
    {
      "cell_type": "code",
      "source": [
        "json"
      ],
      "metadata": {
        "colab": {
          "base_uri": "https://localhost:8080/"
        },
        "id": "7uFpbnWUjcCl",
        "outputId": "d8d6064b-9b6c-4d80-a41f-774d3bd9c45e"
      },
      "execution_count": 4,
      "outputs": [
        {
          "output_type": "execute_result",
          "data": {
            "text/plain": [
              "[{'dia': 1, 'valor': 22174.1664},\n",
              " {'dia': 2, 'valor': 24537.6698},\n",
              " {'dia': 3, 'valor': 26139.6134},\n",
              " {'dia': 4, 'valor': 0.0},\n",
              " {'dia': 5, 'valor': 0.0},\n",
              " {'dia': 6, 'valor': 26742.6612},\n",
              " {'dia': 7, 'valor': 0.0},\n",
              " {'dia': 8, 'valor': 42889.2258},\n",
              " {'dia': 9, 'valor': 46251.174},\n",
              " {'dia': 10, 'valor': 11191.4722},\n",
              " {'dia': 11, 'valor': 0.0},\n",
              " {'dia': 12, 'valor': 0.0},\n",
              " {'dia': 13, 'valor': 3847.4823},\n",
              " {'dia': 14, 'valor': 373.7838},\n",
              " {'dia': 15, 'valor': 2659.7563},\n",
              " {'dia': 16, 'valor': 48924.2448},\n",
              " {'dia': 17, 'valor': 18419.2614},\n",
              " {'dia': 18, 'valor': 0.0},\n",
              " {'dia': 19, 'valor': 0.0},\n",
              " {'dia': 20, 'valor': 35240.1826},\n",
              " {'dia': 21, 'valor': 43829.1667},\n",
              " {'dia': 22, 'valor': 18235.6852},\n",
              " {'dia': 23, 'valor': 4355.0662},\n",
              " {'dia': 24, 'valor': 13327.1025},\n",
              " {'dia': 25, 'valor': 0.0},\n",
              " {'dia': 26, 'valor': 0.0},\n",
              " {'dia': 27, 'valor': 25681.8318},\n",
              " {'dia': 28, 'valor': 1718.1221},\n",
              " {'dia': 29, 'valor': 13220.495},\n",
              " {'dia': 30, 'valor': 8414.61}]"
            ]
          },
          "metadata": {},
          "execution_count": 4
        }
      ]
    },
    {
      "cell_type": "code",
      "source": [
        "def calcular_faturamento(json):\n",
        "  #tirar os valores 0\n",
        "  count = 31\n",
        "  media = 0\n",
        "  min = json[0]['valor']\n",
        "  max = json[0]['valor']\n",
        "  for i in json:\n",
        "    if i['valor'] == 0:\n",
        "      count -= 1\n",
        "    if i['valor'] < min and i['valor'] != 0:\n",
        "      min = i['valor']\n",
        "    if i['valor'] > max and i['valor'] != 0:\n",
        "      max = i['valor']\n",
        "    media += i['valor']\n",
        "\n",
        "  dias_acima_media = [i for i in json if i['valor'] > media/count]\n",
        "  print(f\"O valor mais baixo em um dia do mes {round(min,2)}\")\n",
        "  print(f\"O valor mais alto em um dia do mes {round(max,2)}\")\n",
        "  print(f\"A média mensal é {round(media/count,2)} e seus dias foram:\")\n",
        "  [print(f\"No dia {i['dia']} com um valor de {i['valor']}\") for i in dias_acima_media]\n",
        "\n",
        "\n",
        "calcular_faturamento(json)"
      ],
      "metadata": {
        "colab": {
          "base_uri": "https://localhost:8080/"
        },
        "id": "Bq__QHfvhTBI",
        "outputId": "6e0f25ba-f1cb-4f31-e5a3-ff92e3b55768"
      },
      "execution_count": 6,
      "outputs": [
        {
          "output_type": "stream",
          "name": "stdout",
          "text": [
            "O valor mais baixo em um dia do mes 373.78\n",
            "O valor mais alto em um dia do mes 48924.24\n",
            "A média mensal é 19916.94 e seus dias foram:\n",
            "No dia 1 com um valor de 22174.1664\n",
            "No dia 2 com um valor de 24537.6698\n",
            "No dia 3 com um valor de 26139.6134\n",
            "No dia 6 com um valor de 26742.6612\n",
            "No dia 8 com um valor de 42889.2258\n",
            "No dia 9 com um valor de 46251.174\n",
            "No dia 16 com um valor de 48924.2448\n",
            "No dia 20 com um valor de 35240.1826\n",
            "No dia 21 com um valor de 43829.1667\n",
            "No dia 27 com um valor de 25681.8318\n"
          ]
        }
      ]
    },
    {
      "cell_type": "markdown",
      "source": [
        "4) Dado o valor de faturamento mensal de uma distribuidora, detalhado por estado:\n",
        "* SP – R$ 67.836,43\n",
        "\n",
        "* RJ – R$ 36.678,66\n",
        "\n",
        "* MG – R$ 29.229,88\n",
        "\n",
        "* ES – R$ 27.165,48\n",
        "\n",
        "* Outros – R$19.849,53\n",
        "\n",
        "Escreva um programa na linguagem que desejar onde calcule o percentual de representação que cada estado teve dentro do valor total mensal da distribuidora."
      ],
      "metadata": {
        "id": "1UbPqHxyhE5n"
      }
    },
    {
      "cell_type": "code",
      "source": [
        "dicionario = {\n",
        "    \"SP\": 67836.43,\n",
        "    \"RJ\": 36678.66,\n",
        "    \"MG\": 29229.88,\n",
        "    \"ES\": 27165.48,\n",
        "    \"Outros\": 19849.53\n",
        "}\n",
        "soma = sum(dicionario.values())\n",
        "for estado, valor in dicionario.items():\n",
        "  print(f\"{estado}: {((valor / soma) * 100):.2f}%\")"
      ],
      "metadata": {
        "colab": {
          "base_uri": "https://localhost:8080/"
        },
        "id": "xFHDitRUgkxz",
        "outputId": "f79bdf8c-0ec0-41bb-d23f-41fa2828ad52"
      },
      "execution_count": null,
      "outputs": [
        {
          "output_type": "stream",
          "name": "stdout",
          "text": [
            "SP: 37.53%\n",
            "RJ: 20.29%\n",
            "MG: 16.17%\n",
            "ES: 15.03%\n",
            "Outros: 10.98%\n"
          ]
        }
      ]
    },
    {
      "cell_type": "markdown",
      "source": [
        "5) Escreva um programa que inverta os caracteres de um string.\n",
        "\n",
        "IMPORTANTE:\n",
        "\n",
        "a) Essa string pode ser informada através de qualquer entrada de sua preferência ou pode ser previamente definida no código;\n",
        "\n",
        "b) Evite usar funções prontas, como, por exemplo, reverse;\n"
      ],
      "metadata": {
        "id": "cOdMfTCvmGcX"
      }
    },
    {
      "cell_type": "code",
      "source": [
        "string = \"Otorrinolaringologista\"\n",
        "gnirts = ''\n",
        "for i in range(len(string),0,-1):\n",
        "  gnirts += string[i-1]\n",
        "print(gnirts)"
      ],
      "metadata": {
        "colab": {
          "base_uri": "https://localhost:8080/"
        },
        "id": "W_-14MIJlwTg",
        "outputId": "d674b2f0-a983-4b1f-eee9-fa5b5b518b50"
      },
      "execution_count": null,
      "outputs": [
        {
          "output_type": "stream",
          "name": "stdout",
          "text": [
            "atsigologniralonirrotO\n"
          ]
        }
      ]
    }
  ]
}
