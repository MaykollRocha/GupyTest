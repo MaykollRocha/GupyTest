{
  "nbformat": 4,
  "nbformat_minor": 0,
  "metadata": {
    "colab": {
      "provenance": []
    },
    "kernelspec": {
      "name": "python3",
      "display_name": "Python 3"
    },
    "language_info": {
      "name": "python"
    }
  },
  "cells": [
    {
      "cell_type": "markdown",
      "source": [
        "\n",
        "1) Observe o trecho de código abaixo:\n",
        "\n",
        "int INDICE = 13, SOMA = 0, K = 0;\n",
        "\n",
        "Enquanto K < INDICE faça { K = K + 1; SOMA = SOMA + K; }\n",
        "\n",
        "Imprimir(SOMA);\n",
        "\n",
        "Ao final do processamento, qual será o valor da variável SOMA?\n",
        "\n"
      ],
      "metadata": {
        "id": "uf_oa1WyfpM4"
      }
    },
    {
      "cell_type": "code",
      "source": [
        "indice = 13\n",
        "soma = 0\n",
        "k = 0\n",
        "\n",
        "while k < indice:\n",
        "  k = k + 1\n",
        "  soma = soma + k\n",
        "print(soma)\n",
        ""
      ],
      "metadata": {
        "colab": {
          "base_uri": "https://localhost:8080/"
        },
        "id": "vxu-SNnrf0K2",
        "outputId": "1cdf8e60-e526-45a6-98e3-82c4c3eb1fdf"
      },
      "execution_count": 1,
      "outputs": [
        {
          "output_type": "stream",
          "name": "stdout",
          "text": [
            "91\n"
          ]
        }
      ]
    },
    {
      "cell_type": "markdown",
      "source": [
        " Dado a sequência de Fibonacci, onde se inicia por 0 e 1 e o próximo valor sempre será a soma dos 2 valores anteriores (exemplo: 0, 1, 1, 2, 3, 5, 8, 13, 21, 34...), escreva um programa na linguagem que desejar onde, informado um número, ele calcule a sequência de Fibonacci e retorne uma mensagem avisando se o número informado pertence ou não a sequência.\n",
        "\n",
        "IMPORTANTE: Esse número pode ser informado através de qualquer entrada de sua preferência ou pode ser previamente definido no código;"
      ],
      "metadata": {
        "id": "-fRF0NKEfuQB"
      }
    },
    {
      "cell_type": "code",
      "execution_count": 3,
      "metadata": {
        "colab": {
          "base_uri": "https://localhost:8080/"
        },
        "id": "LNcwZdzGfbk_",
        "outputId": "c2553896-428b-42dc-ca80-dbfa9acb0798"
      },
      "outputs": [
        {
          "output_type": "stream",
          "name": "stdout",
          "text": [
            "Digite um número: 10\n",
            "O número 10 não pertence à sequência de Fibonacci.\n"
          ]
        }
      ],
      "source": [
        "numero = int(input(\"Digite um número: \"))\n",
        "a, b = 0, 1\n",
        "while b < numero:\n",
        "    a, b = b, a + b\n",
        "if b == numero:\n",
        "    print(f\"O número {numero} pertence à sequência de Fibonacci.\")\n",
        "else:\n",
        "    print(f\"O número {numero} não pertence à sequência de Fibonacci.\")"
      ]
    },
    {
      "cell_type": "markdown",
      "source": [
        " Dado um vetor que guarda o valor de faturamento diário de uma distribuidora, faça um programa, na linguagem que desejar, que calcule e retorne:\n",
        "* O menor valor de faturamento ocorrido em um dia do mês;\n",
        "* O maior valor de faturamento ocorrido em um dia do mês;\n",
        "* Número de dias no mês em que o valor de faturamento diário foi superior à média mensal.\n",
        "\n",
        "IMPORTANTE:\n",
        "\n",
        "a) Usar o json ou xml disponível como fonte dos dados do faturamento mensal;\n",
        "\n",
        "b) Podem existir dias sem faturamento, como nos finais de semana e feriados. Estes dias devem ser ignorados no cálculo da média;\n"
      ],
      "metadata": {
        "id": "3N6o_5mWgilK"
      }
    },
    {
      "cell_type": "code",
      "source": [
        "json = {\n",
        "  \"faturamento_diario\": [\n",
        "    {\"dia\": \"2024-08-01\", \"valor\": 200.50},\n",
        "    {\"dia\": \"2024-08-02\", \"valor\": 230.00},\n",
        "    {\"dia\": \"2024-08-03\", \"valor\": 150.00},\n",
        "    {\"dia\": \"2024-08-04\", \"valor\": 240.00},\n",
        "    {\"dia\": \"2024-08-05\", \"valor\": 300.00},\n",
        "    {\"dia\": \"2024-08-06\", \"valor\": 250.00},\n",
        "    {\"dia\": \"2024-08-07\", \"valor\": 0.00},\n",
        "    {\"dia\": \"2024-08-08\", \"valor\": 100.00},\n",
        "    {\"dia\": \"2024-08-09\", \"valor\": 120.00},\n",
        "    {\"dia\": \"2024-08-10\", \"valor\": 400.00},\n",
        "    {\"dia\": \"2024-08-11\", \"valor\": 420.00},\n",
        "    {\"dia\": \"2024-08-12\", \"valor\": 350.00},\n",
        "    {\"dia\": \"2024-08-13\", \"valor\": 100.00},\n",
        "    {\"dia\": \"2024-08-14\", \"valor\": 0.00},\n",
        "    {\"dia\": \"2024-08-15\", \"valor\": 90.00},\n",
        "    {\"dia\": \"2024-08-16\", \"valor\": 150.00},\n",
        "    {\"dia\": \"2024-08-17\", \"valor\": 80.00},\n",
        "    {\"dia\": \"2024-08-18\", \"valor\": 300.00},\n",
        "    {\"dia\": \"2024-08-19\", \"valor\": 120.00},\n",
        "    {\"dia\": \"2024-08-20\", \"valor\": 250.00},\n",
        "    {\"dia\": \"2024-08-21\", \"valor\": 0.00},\n",
        "    {\"dia\": \"2024-08-22\", \"valor\": 350.00},\n",
        "    {\"dia\": \"2024-08-23\", \"valor\": 130.00},\n",
        "    {\"dia\": \"2024-08-24\", \"valor\": 200.00},\n",
        "    {\"dia\": \"2024-08-25\", \"valor\": 70.00},\n",
        "    {\"dia\": \"2024-08-26\", \"valor\": 150.00},\n",
        "    {\"dia\": \"2024-08-27\", \"valor\": 300.00},\n",
        "    {\"dia\": \"2024-08-28\", \"valor\": 0.00},\n",
        "    {\"dia\": \"2024-08-29\", \"valor\": 120.00},\n",
        "    {\"dia\": \"2024-08-30\", \"valor\": 250.00},\n",
        "    {\"dia\": \"2024-08-31\", \"valor\": 400.00},\n",
        "  ]\n",
        "}"
      ],
      "metadata": {
        "id": "4ZVQPRy_h0Wk"
      },
      "execution_count": 6,
      "outputs": []
    },
    {
      "cell_type": "code",
      "source": [
        "json['faturamento_diario']"
      ],
      "metadata": {
        "colab": {
          "base_uri": "https://localhost:8080/"
        },
        "id": "7uFpbnWUjcCl",
        "outputId": "b29b2435-f83f-4a1f-a106-b00694117eb7"
      },
      "execution_count": 8,
      "outputs": [
        {
          "output_type": "execute_result",
          "data": {
            "text/plain": [
              "[{'dia': '2024-08-01', 'valor': 200.5},\n",
              " {'dia': '2024-08-02', 'valor': 230.0},\n",
              " {'dia': '2024-08-03', 'valor': 150.0},\n",
              " {'dia': '2024-08-04', 'valor': 240.0},\n",
              " {'dia': '2024-08-05', 'valor': 300.0},\n",
              " {'dia': '2024-08-06', 'valor': 250.0},\n",
              " {'dia': '2024-08-07', 'valor': 0.0},\n",
              " {'dia': '2024-08-08', 'valor': 100.0},\n",
              " {'dia': '2024-08-09', 'valor': 120.0},\n",
              " {'dia': '2024-08-10', 'valor': 400.0},\n",
              " {'dia': '2024-08-11', 'valor': 420.0},\n",
              " {'dia': '2024-08-12', 'valor': 350.0},\n",
              " {'dia': '2024-08-13', 'valor': 100.0},\n",
              " {'dia': '2024-08-14', 'valor': 0.0},\n",
              " {'dia': '2024-08-15', 'valor': 90.0},\n",
              " {'dia': '2024-08-16', 'valor': 150.0},\n",
              " {'dia': '2024-08-17', 'valor': 80.0},\n",
              " {'dia': '2024-08-18', 'valor': 300.0},\n",
              " {'dia': '2024-08-19', 'valor': 120.0},\n",
              " {'dia': '2024-08-20', 'valor': 250.0},\n",
              " {'dia': '2024-08-21', 'valor': 0.0},\n",
              " {'dia': '2024-08-22', 'valor': 350.0},\n",
              " {'dia': '2024-08-23', 'valor': 130.0},\n",
              " {'dia': '2024-08-24', 'valor': 200.0},\n",
              " {'dia': '2024-08-25', 'valor': 70.0},\n",
              " {'dia': '2024-08-26', 'valor': 150.0},\n",
              " {'dia': '2024-08-27', 'valor': 300.0},\n",
              " {'dia': '2024-08-28', 'valor': 0.0},\n",
              " {'dia': '2024-08-29', 'valor': 120.0},\n",
              " {'dia': '2024-08-30', 'valor': 250.0},\n",
              " {'dia': '2024-08-31', 'valor': 400.0}]"
            ]
          },
          "metadata": {},
          "execution_count": 8
        }
      ]
    },
    {
      "cell_type": "code",
      "source": [
        "def calcular_faturamento(json):\n",
        "  #tirar os valores 0\n",
        "  count = 31\n",
        "  media = 0\n",
        "  min = json[0]['valor']\n",
        "  max = json[0]['valor']\n",
        "  for i in json:\n",
        "    if i['valor'] == 0:\n",
        "      count -= 1\n",
        "    if i['valor'] < min and i['valor'] != 0:\n",
        "      min = i['valor']\n",
        "    if i['valor'] > max and i['valor'] != 0:\n",
        "      max = i['valor']\n",
        "    media += i['valor']\n",
        "\n",
        "  dias_acima_media = [i for i in json if i['valor'] > media/count]\n",
        "  print(f\"O valor mais baixo em um dia do mes {round(min,2)}\")\n",
        "  print(f\"O valor mais alto em um dia do mes {round(max,2)}\")\n",
        "  print(f\"A média mensal é {round(media/count,2)} e seus dias foram:\")\n",
        "  [print(f\"No dia {i['dia']} com um valor de {i['valor']}\") for i in dias_acima_media]\n",
        "\n",
        "\n",
        "calcular_faturamento(json['faturamento_diario'])"
      ],
      "metadata": {
        "colab": {
          "base_uri": "https://localhost:8080/"
        },
        "id": "Bq__QHfvhTBI",
        "outputId": "41a4d59d-a4d8-420f-97ef-2dea10a72d4c"
      },
      "execution_count": 13,
      "outputs": [
        {
          "output_type": "stream",
          "name": "stdout",
          "text": [
            "O valor mais baixo em um dia do mes 70.0\n",
            "O valor mais alto em um dia do mes 420.0\n",
            "A média mensal é 215.57 e seus dias foram:\n",
            "No dia 2024-08-02 com um valor de 230.0\n",
            "No dia 2024-08-04 com um valor de 240.0\n",
            "No dia 2024-08-05 com um valor de 300.0\n",
            "No dia 2024-08-06 com um valor de 250.0\n",
            "No dia 2024-08-10 com um valor de 400.0\n",
            "No dia 2024-08-11 com um valor de 420.0\n",
            "No dia 2024-08-12 com um valor de 350.0\n",
            "No dia 2024-08-18 com um valor de 300.0\n",
            "No dia 2024-08-20 com um valor de 250.0\n",
            "No dia 2024-08-22 com um valor de 350.0\n",
            "No dia 2024-08-27 com um valor de 300.0\n",
            "No dia 2024-08-30 com um valor de 250.0\n",
            "No dia 2024-08-31 com um valor de 400.0\n"
          ]
        },
        {
          "output_type": "execute_result",
          "data": {
            "text/plain": [
              "(70.0,\n",
              " 420.0,\n",
              " 215.57407407407408,\n",
              " [{'dia': '2024-08-02', 'valor': 230.0},\n",
              "  {'dia': '2024-08-04', 'valor': 240.0},\n",
              "  {'dia': '2024-08-05', 'valor': 300.0},\n",
              "  {'dia': '2024-08-06', 'valor': 250.0},\n",
              "  {'dia': '2024-08-10', 'valor': 400.0},\n",
              "  {'dia': '2024-08-11', 'valor': 420.0},\n",
              "  {'dia': '2024-08-12', 'valor': 350.0},\n",
              "  {'dia': '2024-08-18', 'valor': 300.0},\n",
              "  {'dia': '2024-08-20', 'valor': 250.0},\n",
              "  {'dia': '2024-08-22', 'valor': 350.0},\n",
              "  {'dia': '2024-08-27', 'valor': 300.0},\n",
              "  {'dia': '2024-08-30', 'valor': 250.0},\n",
              "  {'dia': '2024-08-31', 'valor': 400.0}])"
            ]
          },
          "metadata": {},
          "execution_count": 13
        }
      ]
    },
    {
      "cell_type": "markdown",
      "source": [
        "4) Dado o valor de faturamento mensal de uma distribuidora, detalhado por estado:\n",
        "* SP – R$ 67.836,43\n",
        "\n",
        "* RJ – R$ 36.678,66\n",
        "\n",
        "* MG – R$ 29.229,88\n",
        "\n",
        "* ES – R$ 27.165,48\n",
        "\n",
        "* Outros – R$19.849,53\n",
        "\n",
        "Escreva um programa na linguagem que desejar onde calcule o percentual de representação que cada estado teve dentro do valor total mensal da distribuidora."
      ],
      "metadata": {
        "id": "1UbPqHxyhE5n"
      }
    },
    {
      "cell_type": "code",
      "source": [
        "dicionario = {\n",
        "    \"SP\": 67836.43,\n",
        "    \"RJ\": 36678.66,\n",
        "    \"MG\": 29229.88,\n",
        "    \"ES\": 27165.48,\n",
        "    \"Outros\": 19849.53\n",
        "}\n",
        "soma = sum(dicionario.values())\n",
        "for estado, valor in dicionario.items():\n",
        "  print(f\"{estado}: {((valor / soma) * 100):.2f}%\")"
      ],
      "metadata": {
        "colab": {
          "base_uri": "https://localhost:8080/"
        },
        "id": "xFHDitRUgkxz",
        "outputId": "f79bdf8c-0ec0-41bb-d23f-41fa2828ad52"
      },
      "execution_count": 15,
      "outputs": [
        {
          "output_type": "stream",
          "name": "stdout",
          "text": [
            "SP: 37.53%\n",
            "RJ: 20.29%\n",
            "MG: 16.17%\n",
            "ES: 15.03%\n",
            "Outros: 10.98%\n"
          ]
        }
      ]
    },
    {
      "cell_type": "markdown",
      "source": [
        "5) Escreva um programa que inverta os caracteres de um string.\n",
        "\n",
        "IMPORTANTE:\n",
        "\n",
        "a) Essa string pode ser informada através de qualquer entrada de sua preferência ou pode ser previamente definida no código;\n",
        "\n",
        "b) Evite usar funções prontas, como, por exemplo, reverse;\n"
      ],
      "metadata": {
        "id": "cOdMfTCvmGcX"
      }
    },
    {
      "cell_type": "code",
      "source": [
        "string = \"Otorrinolaringologista\"\n",
        "gnirts = ''\n",
        "for i in range(len(string),0,-1):\n",
        "  gnirts += string[i-1]\n",
        "print(gnirts)"
      ],
      "metadata": {
        "colab": {
          "base_uri": "https://localhost:8080/"
        },
        "id": "W_-14MIJlwTg",
        "outputId": "d674b2f0-a983-4b1f-eee9-fa5b5b518b50"
      },
      "execution_count": 18,
      "outputs": [
        {
          "output_type": "stream",
          "name": "stdout",
          "text": [
            "atsigologniralonirrotO\n"
          ]
        }
      ]
    }
  ]
}